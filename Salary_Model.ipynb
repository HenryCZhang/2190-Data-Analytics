{
 "cells": [
  {
   "cell_type": "code",
   "execution_count": 35,
   "metadata": {
    "executionInfo": {
     "elapsed": 1,
     "status": "aborted",
     "timestamp": 1746695053692,
     "user": {
      "displayName": "Henry Zhang",
      "userId": "13037431899890089471"
     },
     "user_tz": -480
    },
    "id": "FbQzx7yLFgKQ"
   },
   "outputs": [],
   "source": [
    "import pandas as pd\n",
    "import numpy as np\n",
    "from sklearn.model_selection import train_test_split\n",
    "from sklearn.preprocessing import LabelEncoder, OneHotEncoder, StandardScaler\n",
    "from sklearn.compose import ColumnTransformer\n",
    "from sklearn.ensemble import RandomForestClassifier, RandomForestRegressor\n",
    "from sklearn.pipeline import Pipeline\n",
    "from sklearn.metrics import accuracy_score, classification_report, confusion_matrix, mean_squared_error, r2_score"
   ]
  },
  {
   "cell_type": "code",
   "execution_count": 5,
   "metadata": {
    "executionInfo": {
     "elapsed": 6,
     "status": "aborted",
     "timestamp": 1746695053701,
     "user": {
      "displayName": "Henry Zhang",
      "userId": "13037431899890089471"
     },
     "user_tz": -480
    },
    "id": "r-z1Z_B4F6JM"
   },
   "outputs": [],
   "source": [
    "salary_df = pd.read_csv('Salary.csv')"
   ]
  },
  {
   "cell_type": "markdown",
   "metadata": {},
   "source": [
    "## 1. 预测职业Model - 随机森林分类模型（Random Forest Classifier)"
   ]
  },
  {
   "cell_type": "markdown",
   "metadata": {
    "id": "sG4Q84IMHUvG"
   },
   "source": [
    "## 1.1 查看数据结构和预处理"
   ]
  },
  {
   "cell_type": "code",
   "execution_count": 6,
   "metadata": {
    "executionInfo": {
     "elapsed": 50,
     "status": "aborted",
     "timestamp": 1746695053754,
     "user": {
      "displayName": "Henry Zhang",
      "userId": "13037431899890089471"
     },
     "user_tz": -480
    },
    "id": "qTfxrtsQGOqD"
   },
   "outputs": [
    {
     "name": "stdout",
     "output_type": "stream",
     "text": [
      "<class 'pandas.core.frame.DataFrame'>\n",
      "RangeIndex: 6684 entries, 0 to 6683\n",
      "Data columns (total 9 columns):\n",
      " #   Column               Non-Null Count  Dtype  \n",
      "---  ------               --------------  -----  \n",
      " 0   Age                  6684 non-null   float64\n",
      " 1   Gender               6684 non-null   object \n",
      " 2   Education Level      6684 non-null   int64  \n",
      " 3   Job Title            6684 non-null   object \n",
      " 4   Years of Experience  6684 non-null   float64\n",
      " 5   Salary               6684 non-null   float64\n",
      " 6   Country              6684 non-null   object \n",
      " 7   Race                 6684 non-null   object \n",
      " 8   Senior               6684 non-null   int64  \n",
      "dtypes: float64(3), int64(2), object(4)\n",
      "memory usage: 470.1+ KB\n",
      "None\n"
     ]
    },
    {
     "data": {
      "text/html": [
       "<div>\n",
       "<style scoped>\n",
       "    .dataframe tbody tr th:only-of-type {\n",
       "        vertical-align: middle;\n",
       "    }\n",
       "\n",
       "    .dataframe tbody tr th {\n",
       "        vertical-align: top;\n",
       "    }\n",
       "\n",
       "    .dataframe thead th {\n",
       "        text-align: right;\n",
       "    }\n",
       "</style>\n",
       "<table border=\"1\" class=\"dataframe\">\n",
       "  <thead>\n",
       "    <tr style=\"text-align: right;\">\n",
       "      <th></th>\n",
       "      <th>Age</th>\n",
       "      <th>Gender</th>\n",
       "      <th>Education Level</th>\n",
       "      <th>Job Title</th>\n",
       "      <th>Years of Experience</th>\n",
       "      <th>Salary</th>\n",
       "      <th>Country</th>\n",
       "      <th>Race</th>\n",
       "      <th>Senior</th>\n",
       "    </tr>\n",
       "  </thead>\n",
       "  <tbody>\n",
       "    <tr>\n",
       "      <th>0</th>\n",
       "      <td>32.0</td>\n",
       "      <td>Male</td>\n",
       "      <td>1</td>\n",
       "      <td>Software Engineer</td>\n",
       "      <td>5.0</td>\n",
       "      <td>90000.0</td>\n",
       "      <td>UK</td>\n",
       "      <td>White</td>\n",
       "      <td>0</td>\n",
       "    </tr>\n",
       "    <tr>\n",
       "      <th>1</th>\n",
       "      <td>28.0</td>\n",
       "      <td>Female</td>\n",
       "      <td>2</td>\n",
       "      <td>Data Analyst</td>\n",
       "      <td>3.0</td>\n",
       "      <td>65000.0</td>\n",
       "      <td>USA</td>\n",
       "      <td>Hispanic</td>\n",
       "      <td>0</td>\n",
       "    </tr>\n",
       "    <tr>\n",
       "      <th>2</th>\n",
       "      <td>45.0</td>\n",
       "      <td>Male</td>\n",
       "      <td>3</td>\n",
       "      <td>Manager</td>\n",
       "      <td>15.0</td>\n",
       "      <td>150000.0</td>\n",
       "      <td>Canada</td>\n",
       "      <td>White</td>\n",
       "      <td>1</td>\n",
       "    </tr>\n",
       "    <tr>\n",
       "      <th>3</th>\n",
       "      <td>36.0</td>\n",
       "      <td>Female</td>\n",
       "      <td>1</td>\n",
       "      <td>Sales Associate</td>\n",
       "      <td>7.0</td>\n",
       "      <td>60000.0</td>\n",
       "      <td>USA</td>\n",
       "      <td>Hispanic</td>\n",
       "      <td>0</td>\n",
       "    </tr>\n",
       "    <tr>\n",
       "      <th>4</th>\n",
       "      <td>52.0</td>\n",
       "      <td>Male</td>\n",
       "      <td>2</td>\n",
       "      <td>Director</td>\n",
       "      <td>20.0</td>\n",
       "      <td>200000.0</td>\n",
       "      <td>USA</td>\n",
       "      <td>Asian</td>\n",
       "      <td>0</td>\n",
       "    </tr>\n",
       "  </tbody>\n",
       "</table>\n",
       "</div>"
      ],
      "text/plain": [
       "    Age  Gender  Education Level          Job Title  Years of Experience  \\\n",
       "0  32.0    Male                1  Software Engineer                  5.0   \n",
       "1  28.0  Female                2       Data Analyst                  3.0   \n",
       "2  45.0    Male                3            Manager                 15.0   \n",
       "3  36.0  Female                1    Sales Associate                  7.0   \n",
       "4  52.0    Male                2           Director                 20.0   \n",
       "\n",
       "     Salary Country      Race  Senior  \n",
       "0   90000.0      UK     White       0  \n",
       "1   65000.0     USA  Hispanic       0  \n",
       "2  150000.0  Canada     White       1  \n",
       "3   60000.0     USA  Hispanic       0  \n",
       "4  200000.0     USA     Asian       0  "
      ]
     },
     "execution_count": 6,
     "metadata": {},
     "output_type": "execute_result"
    }
   ],
   "source": [
    "# 查看数据基本信息\n",
    "print(salary_df.info())\n",
    "\n",
    "# 显示前几行数据\n",
    "salary_df.head()"
   ]
  },
  {
   "cell_type": "markdown",
   "metadata": {
    "id": "EArBCZZaHfa0"
   },
   "source": [
    "### 选取特征和目标变量："
   ]
  },
  {
   "cell_type": "code",
   "execution_count": 7,
   "metadata": {
    "executionInfo": {
     "elapsed": 1,
     "status": "aborted",
     "timestamp": 1746695053759,
     "user": {
      "displayName": "Henry Zhang",
      "userId": "13037431899890089471"
     },
     "user_tz": -480
    },
    "id": "qNp3iU-EHhDs"
   },
   "outputs": [],
   "source": [
    "X = salary_df[['Gender', 'Race', 'Education Level']]\n",
    "y = salary_df['Job Title']"
   ]
  },
  {
   "cell_type": "markdown",
   "metadata": {
    "id": "SkC7Fh8OHmBK"
   },
   "source": [
    "### 编码类别变量（使用 One-Hot Encoding）"
   ]
  },
  {
   "cell_type": "code",
   "execution_count": 8,
   "metadata": {
    "executionInfo": {
     "elapsed": 252,
     "status": "aborted",
     "timestamp": 1746695054014,
     "user": {
      "displayName": "Henry Zhang",
      "userId": "13037431899890089471"
     },
     "user_tz": -480
    },
    "id": "tkviOToWHnET"
   },
   "outputs": [],
   "source": [
    "# 使用 ColumnTransformer 对类别列做 One-Hot 编码\n",
    "preprocessor = ColumnTransformer(\n",
    "    transformers=[\n",
    "        ('cat', OneHotEncoder(handle_unknown='ignore'), ['Gender', 'Race', 'Education Level'])\n",
    "    ])\n",
    "\n",
    "# 构建完整 pipeline：预处理 + 分类器\n",
    "model = Pipeline(steps=[\n",
    "    ('preprocessor', preprocessor),\n",
    "    ('classifier', RandomForestClassifier(random_state=42))\n",
    "])"
   ]
  },
  {
   "cell_type": "markdown",
   "metadata": {
    "id": "HTQdV3KWHpxt"
   },
   "source": [
    "##  1.2 划分训练集与测试集"
   ]
  },
  {
   "cell_type": "code",
   "execution_count": 9,
   "metadata": {
    "executionInfo": {
     "elapsed": 0,
     "status": "aborted",
     "timestamp": 1746695054018,
     "user": {
      "displayName": "Henry Zhang",
      "userId": "13037431899890089471"
     },
     "user_tz": -480
    },
    "id": "9bVMYMm3Hq9d"
   },
   "outputs": [],
   "source": [
    "X_train, X_test, y_train, y_test = train_test_split(X, y, test_size=0.2, random_state=42)"
   ]
  },
  {
   "cell_type": "markdown",
   "metadata": {
    "id": "QIcNQqdfH1bK"
   },
   "source": [
    "## 1.3 训练模型"
   ]
  },
  {
   "cell_type": "code",
   "execution_count": 10,
   "metadata": {
    "executionInfo": {
     "elapsed": 1,
     "status": "aborted",
     "timestamp": 1746695054023,
     "user": {
      "displayName": "Henry Zhang",
      "userId": "13037431899890089471"
     },
     "user_tz": -480
    },
    "id": "85_R4LD_H0yx"
   },
   "outputs": [
    {
     "data": {
      "text/plain": [
       "Pipeline(steps=[('preprocessor',\n",
       "                 ColumnTransformer(transformers=[('cat',\n",
       "                                                  OneHotEncoder(handle_unknown='ignore'),\n",
       "                                                  ['Gender', 'Race',\n",
       "                                                   'Education Level'])])),\n",
       "                ('classifier', RandomForestClassifier(random_state=42))])"
      ]
     },
     "execution_count": 10,
     "metadata": {},
     "output_type": "execute_result"
    }
   ],
   "source": [
    "model.fit(X_train, y_train)"
   ]
  },
  {
   "cell_type": "markdown",
   "metadata": {
    "id": "Ksp2n6FZH7nc"
   },
   "source": [
    "## 1.4 模型评估"
   ]
  },
  {
   "cell_type": "code",
   "execution_count": 26,
   "metadata": {
    "executionInfo": {
     "elapsed": 1,
     "status": "aborted",
     "timestamp": 1746695054027,
     "user": {
      "displayName": "Henry Zhang",
      "userId": "13037431899890089471"
     },
     "user_tz": -480
    },
    "id": "LG5VXoi8H6-U"
   },
   "outputs": [
    {
     "name": "stdout",
     "output_type": "stream",
     "text": [
      "Model Accuracy: 0.19\n",
      "                                 precision    recall  f1-score   support\n",
      "\n",
      "                     Accountant       0.00      0.00      0.00         1\n",
      "       Administrative Assistant       0.00      0.00      0.00         1\n",
      "             Back end Developer       0.00      0.00      0.00        56\n",
      "               Business Analyst       0.00      0.00      0.00         2\n",
      " Business Development Associate       0.00      0.00      0.00         2\n",
      "   Business Development Manager       0.00      0.00      0.00         2\n",
      "  Business Intelligence Analyst       0.00      0.00      0.00         1\n",
      "    Business Operations Analyst       0.00      0.00      0.00         1\n",
      "      Content Marketing Manager       0.00      0.00      0.00        12\n",
      "                     Copywriter       0.00      0.00      0.00         1\n",
      "       Customer Service Manager       0.00      0.00      0.00         1\n",
      "           Customer Service Rep       0.00      0.00      0.00         1\n",
      "Customer Service Representative       0.00      0.00      0.00         1\n",
      "                   Data Analyst       0.06      0.01      0.02        74\n",
      "                 Data Scientist       0.28      0.64      0.39        99\n",
      "                       Designer       0.00      0.00      0.00         1\n",
      "      Digital Marketing Manager       0.00      0.00      0.00        11\n",
      "   Digital Marketing Specialist       0.00      0.00      0.00         1\n",
      "       Director of Data Science       0.00      0.00      0.00         7\n",
      "        Director of Engineering       0.00      0.00      0.00         1\n",
      "                 Director of HR       0.00      0.00      0.00        16\n",
      "      Director of Human Capital       0.00      0.00      0.00         1\n",
      "    Director of Human Resources       0.00      0.00      0.00         1\n",
      "          Director of Marketing       0.00      0.00      0.00        14\n",
      "         Director of Operations       0.00      0.00      0.00         4\n",
      "              Director of Sales       0.00      0.00      0.00         1\n",
      "                       Engineer       0.00      0.00      0.00         1\n",
      "              Financial Advisor       0.00      0.00      0.00         1\n",
      "              Financial Analyst       0.00      0.00      0.00         6\n",
      "              Financial Manager       0.14      0.07      0.10        28\n",
      "            Front End Developer       0.00      0.00      0.00         7\n",
      "            Front end Developer       0.00      0.00      0.00        52\n",
      "            Full Stack Engineer       0.23      0.10      0.14        67\n",
      "               Graphic Designer       0.00      0.00      0.00         7\n",
      "                 HR Coordinator       0.00      0.00      0.00         7\n",
      "                  HR Generalist       0.00      0.00      0.00        13\n",
      "                     HR Manager       0.00      0.00      0.00         2\n",
      "                  HR Specialist       0.00      0.00      0.00         1\n",
      "    Human Resources Coordinator       0.00      0.00      0.00        11\n",
      "        Human Resources Manager       0.08      0.03      0.04        32\n",
      "          Juniour HR Generalist       0.00      0.00      0.00         1\n",
      "              Marketing Analyst       0.00      0.00      0.00        30\n",
      "          Marketing Coordinator       0.04      0.03      0.03        37\n",
      "             Marketing Director       0.00      0.00      0.00        15\n",
      "              Marketing Manager       0.12      0.31      0.18        64\n",
      "           Marketing Specialist       0.00      0.00      0.00         3\n",
      "             Operations Analyst       0.00      0.00      0.00         1\n",
      "         Operations Coordinator       0.00      0.00      0.00         2\n",
      "            Operations Director       0.00      0.00      0.00         1\n",
      "             Operations Manager       0.00      0.00      0.00        25\n",
      "               Product Designer       0.00      0.00      0.00         8\n",
      "    Product Development Manager       0.00      0.00      0.00         1\n",
      "                Product Manager       0.06      0.02      0.03        56\n",
      "      Product Marketing Manager       0.00      0.00      0.00        16\n",
      "            Project Coordinator       0.00      0.00      0.00         2\n",
      "               Project Engineer       0.00      0.00      0.00        56\n",
      "                Project Manager       0.00      0.00      0.00         8\n",
      "                   Receptionist       0.00      0.00      0.00        11\n",
      "                      Recruiter       0.00      0.00      0.00         1\n",
      "              Research Director       0.00      0.00      0.00        12\n",
      "             Research Scientist       0.25      0.06      0.10        32\n",
      "                     Researcher       0.00      0.00      0.00         1\n",
      "                Sales Associate       0.45      0.84      0.58        45\n",
      "                 Sales Director       0.00      0.00      0.00        16\n",
      "                Sales Executive       0.00      0.00      0.00         7\n",
      "                  Sales Manager       0.00      0.00      0.00         9\n",
      "           Sales Representative       0.00      0.00      0.00        15\n",
      "                      Scientist       0.00      0.00      0.00         1\n",
      "           Social Media Manager       0.00      0.00      0.00         2\n",
      "             Software Architect       0.00      0.00      0.00         1\n",
      "             Software Developer       0.00      0.00      0.00        42\n",
      "              Software Engineer       0.17      0.72      0.27       158\n",
      "      Software Engineer Manager       0.22      0.14      0.17        72\n",
      "               Software Manager       0.00      0.00      0.00         1\n",
      "            Strategy Consultant       0.00      0.00      0.00         1\n",
      "            Technical Recruiter       0.00      0.00      0.00         1\n",
      "            Training Specialist       0.00      0.00      0.00         1\n",
      "                    UX Designer       0.00      0.00      0.00         1\n",
      "                  Web Developer       0.00      0.00      0.00        33\n",
      "\n",
      "                       accuracy                           0.19      1337\n",
      "                      macro avg       0.03      0.04      0.03      1337\n",
      "                   weighted avg       0.10      0.19      0.11      1337\n",
      "\n",
      "Confusion Matrix:\n",
      " [[0 0 0 ... 0 0 0]\n",
      " [0 0 0 ... 0 0 0]\n",
      " [0 0 0 ... 0 0 0]\n",
      " ...\n",
      " [0 0 0 ... 0 0 0]\n",
      " [0 0 0 ... 0 0 0]\n",
      " [0 0 0 ... 0 0 0]]\n"
     ]
    },
    {
     "name": "stderr",
     "output_type": "stream",
     "text": [
      "/Users/zhangcao/Desktop/ML/学生职业规划数据分析/学生职业规划数据分析_venv/lib/python3.7/site-packages/sklearn/metrics/_classification.py:1318: UndefinedMetricWarning: Precision and F-score are ill-defined and being set to 0.0 in labels with no predicted samples. Use `zero_division` parameter to control this behavior.\n",
      "  _warn_prf(average, modifier, msg_start, len(result))\n",
      "/Users/zhangcao/Desktop/ML/学生职业规划数据分析/学生职业规划数据分析_venv/lib/python3.7/site-packages/sklearn/metrics/_classification.py:1318: UndefinedMetricWarning: Precision and F-score are ill-defined and being set to 0.0 in labels with no predicted samples. Use `zero_division` parameter to control this behavior.\n",
      "  _warn_prf(average, modifier, msg_start, len(result))\n",
      "/Users/zhangcao/Desktop/ML/学生职业规划数据分析/学生职业规划数据分析_venv/lib/python3.7/site-packages/sklearn/metrics/_classification.py:1318: UndefinedMetricWarning: Precision and F-score are ill-defined and being set to 0.0 in labels with no predicted samples. Use `zero_division` parameter to control this behavior.\n",
      "  _warn_prf(average, modifier, msg_start, len(result))\n"
     ]
    }
   ],
   "source": [
    "# 预测\n",
    "y_pred = model.predict(X_test)\n",
    "\n",
    "# 准确率\n",
    "accuracy = accuracy_score(y_test, y_pred)\n",
    "print(f\"Model Accuracy: {accuracy:.2f}\")\n",
    "\n",
    "# 分类报告\n",
    "print(classification_report(y_test, y_pred))\n",
    "\n",
    "# 混淆矩阵\n",
    "conf_matrix = confusion_matrix(y_test, y_pred)\n",
    "print(\"Confusion Matrix:\\n\", conf_matrix)"
   ]
  },
  {
   "cell_type": "markdown",
   "metadata": {
    "id": "QIYl_47DINP8"
   },
   "source": [
    "## 1.5 使用模型预测新学生数据"
   ]
  },
  {
   "cell_type": "code",
   "execution_count": 27,
   "metadata": {
    "executionInfo": {
     "elapsed": 1,
     "status": "aborted",
     "timestamp": 1746695054031,
     "user": {
      "displayName": "Henry Zhang",
      "userId": "13037431899890089471"
     },
     "user_tz": -480
    },
    "id": "jwRg89WBIPAb"
   },
   "outputs": [
    {
     "name": "stdout",
     "output_type": "stream",
     "text": [
      "Predicted Job Title: Software Engineer\n"
     ]
    }
   ],
   "source": [
    "# 新学生数据\n",
    "new_student = pd.DataFrame({\n",
    "    'Gender': ['Female'],\n",
    "    'Race': ['White'],\n",
    "    'Education Level': [\"Master's\"]\n",
    "})\n",
    "\n",
    "# 预测职业\n",
    "predicted_job_title = model.predict(new_student)\n",
    "print(f\"Predicted Job Title: {predicted_job_title[0]}\")"
   ]
  },
  {
   "cell_type": "markdown",
   "metadata": {},
   "source": [
    "## 2. 预测薪酬 Model - 随机森林回归模型（Random Forest Regressor"
   ]
  },
  {
   "cell_type": "markdown",
   "metadata": {},
   "source": [
    "### 2.1 查看数据结构和预处理"
   ]
  },
  {
   "cell_type": "code",
   "execution_count": 28,
   "metadata": {},
   "outputs": [
    {
     "name": "stdout",
     "output_type": "stream",
     "text": [
      "<class 'pandas.core.frame.DataFrame'>\n",
      "RangeIndex: 6684 entries, 0 to 6683\n",
      "Data columns (total 9 columns):\n",
      " #   Column               Non-Null Count  Dtype  \n",
      "---  ------               --------------  -----  \n",
      " 0   Age                  6684 non-null   float64\n",
      " 1   Gender               6684 non-null   object \n",
      " 2   Education Level      6684 non-null   int64  \n",
      " 3   Job Title            6684 non-null   object \n",
      " 4   Years of Experience  6684 non-null   float64\n",
      " 5   Salary               6684 non-null   float64\n",
      " 6   Country              6684 non-null   object \n",
      " 7   Race                 6684 non-null   object \n",
      " 8   Senior               6684 non-null   int64  \n",
      "dtypes: float64(3), int64(2), object(4)\n",
      "memory usage: 470.1+ KB\n",
      "None\n"
     ]
    },
    {
     "data": {
      "text/html": [
       "<div>\n",
       "<style scoped>\n",
       "    .dataframe tbody tr th:only-of-type {\n",
       "        vertical-align: middle;\n",
       "    }\n",
       "\n",
       "    .dataframe tbody tr th {\n",
       "        vertical-align: top;\n",
       "    }\n",
       "\n",
       "    .dataframe thead th {\n",
       "        text-align: right;\n",
       "    }\n",
       "</style>\n",
       "<table border=\"1\" class=\"dataframe\">\n",
       "  <thead>\n",
       "    <tr style=\"text-align: right;\">\n",
       "      <th></th>\n",
       "      <th>Age</th>\n",
       "      <th>Gender</th>\n",
       "      <th>Education Level</th>\n",
       "      <th>Job Title</th>\n",
       "      <th>Years of Experience</th>\n",
       "      <th>Salary</th>\n",
       "      <th>Country</th>\n",
       "      <th>Race</th>\n",
       "      <th>Senior</th>\n",
       "    </tr>\n",
       "  </thead>\n",
       "  <tbody>\n",
       "    <tr>\n",
       "      <th>0</th>\n",
       "      <td>32.0</td>\n",
       "      <td>Male</td>\n",
       "      <td>1</td>\n",
       "      <td>Software Engineer</td>\n",
       "      <td>5.0</td>\n",
       "      <td>90000.0</td>\n",
       "      <td>UK</td>\n",
       "      <td>White</td>\n",
       "      <td>0</td>\n",
       "    </tr>\n",
       "    <tr>\n",
       "      <th>1</th>\n",
       "      <td>28.0</td>\n",
       "      <td>Female</td>\n",
       "      <td>2</td>\n",
       "      <td>Data Analyst</td>\n",
       "      <td>3.0</td>\n",
       "      <td>65000.0</td>\n",
       "      <td>USA</td>\n",
       "      <td>Hispanic</td>\n",
       "      <td>0</td>\n",
       "    </tr>\n",
       "    <tr>\n",
       "      <th>2</th>\n",
       "      <td>45.0</td>\n",
       "      <td>Male</td>\n",
       "      <td>3</td>\n",
       "      <td>Manager</td>\n",
       "      <td>15.0</td>\n",
       "      <td>150000.0</td>\n",
       "      <td>Canada</td>\n",
       "      <td>White</td>\n",
       "      <td>1</td>\n",
       "    </tr>\n",
       "    <tr>\n",
       "      <th>3</th>\n",
       "      <td>36.0</td>\n",
       "      <td>Female</td>\n",
       "      <td>1</td>\n",
       "      <td>Sales Associate</td>\n",
       "      <td>7.0</td>\n",
       "      <td>60000.0</td>\n",
       "      <td>USA</td>\n",
       "      <td>Hispanic</td>\n",
       "      <td>0</td>\n",
       "    </tr>\n",
       "    <tr>\n",
       "      <th>4</th>\n",
       "      <td>52.0</td>\n",
       "      <td>Male</td>\n",
       "      <td>2</td>\n",
       "      <td>Director</td>\n",
       "      <td>20.0</td>\n",
       "      <td>200000.0</td>\n",
       "      <td>USA</td>\n",
       "      <td>Asian</td>\n",
       "      <td>0</td>\n",
       "    </tr>\n",
       "  </tbody>\n",
       "</table>\n",
       "</div>"
      ],
      "text/plain": [
       "    Age  Gender  Education Level          Job Title  Years of Experience  \\\n",
       "0  32.0    Male                1  Software Engineer                  5.0   \n",
       "1  28.0  Female                2       Data Analyst                  3.0   \n",
       "2  45.0    Male                3            Manager                 15.0   \n",
       "3  36.0  Female                1    Sales Associate                  7.0   \n",
       "4  52.0    Male                2           Director                 20.0   \n",
       "\n",
       "     Salary Country      Race  Senior  \n",
       "0   90000.0      UK     White       0  \n",
       "1   65000.0     USA  Hispanic       0  \n",
       "2  150000.0  Canada     White       1  \n",
       "3   60000.0     USA  Hispanic       0  \n",
       "4  200000.0     USA     Asian       0  "
      ]
     },
     "execution_count": 28,
     "metadata": {},
     "output_type": "execute_result"
    }
   ],
   "source": [
    "# 查看数据基本信息\n",
    "print(salary_df.info())\n",
    "\n",
    "# 显示前几行数据\n",
    "salary_df.head()"
   ]
  },
  {
   "cell_type": "markdown",
   "metadata": {},
   "source": [
    "### 选取特征和目标变量："
   ]
  },
  {
   "cell_type": "code",
   "execution_count": 29,
   "metadata": {},
   "outputs": [],
   "source": [
    "# 特征列\n",
    "X = salary_df[['Age', 'Education Level', 'Job Title', 'Years of Experience']]\n",
    "# 目标变量\n",
    "y = salary_df['Salary']"
   ]
  },
  {
   "cell_type": "markdown",
   "metadata": {},
   "source": [
    "### 2.2 预处理：编码分类变量 + 数值标准化"
   ]
  },
  {
   "cell_type": "code",
   "execution_count": 30,
   "metadata": {},
   "outputs": [],
   "source": [
    "# 分类变量列（Education Level, Job Title）\n",
    "categorical_features = ['Education Level', 'Job Title']\n",
    "\n",
    "# 数值变量列（Age, Years of Experience）\n",
    "numeric_features = ['Age', 'Years of Experience']\n",
    "\n",
    "# 构建预处理器\n",
    "preprocessor = ColumnTransformer(\n",
    "    transformers=[\n",
    "        ('num', StandardScaler(), numeric_features),\n",
    "        ('cat', OneHotEncoder(handle_unknown='ignore'), categorical_features)\n",
    "    ])"
   ]
  },
  {
   "cell_type": "markdown",
   "metadata": {},
   "source": [
    "### 2.3 构建模型流水线（Pipeline）"
   ]
  },
  {
   "cell_type": "code",
   "execution_count": 31,
   "metadata": {},
   "outputs": [],
   "source": [
    "# 构建完整 pipeline：预处理 + 模型\n",
    "model = Pipeline(steps=[\n",
    "    ('preprocessor', preprocessor),\n",
    "    ('regressor', RandomForestRegressor(random_state=42))\n",
    "])"
   ]
  },
  {
   "cell_type": "markdown",
   "metadata": {},
   "source": [
    "### 2.4 划分训练集和测试集"
   ]
  },
  {
   "cell_type": "code",
   "execution_count": 32,
   "metadata": {},
   "outputs": [],
   "source": [
    "X_train, X_test, y_train, y_test = train_test_split(X, y, test_size=0.2, random_state=42)"
   ]
  },
  {
   "cell_type": "markdown",
   "metadata": {},
   "source": [
    "### 2.5 训练模型"
   ]
  },
  {
   "cell_type": "code",
   "execution_count": 36,
   "metadata": {},
   "outputs": [
    {
     "data": {
      "text/plain": [
       "Pipeline(steps=[('preprocessor',\n",
       "                 ColumnTransformer(transformers=[('num', StandardScaler(),\n",
       "                                                  ['Age',\n",
       "                                                   'Years of Experience']),\n",
       "                                                 ('cat',\n",
       "                                                  OneHotEncoder(handle_unknown='ignore'),\n",
       "                                                  ['Education Level',\n",
       "                                                   'Job Title'])])),\n",
       "                ('regressor', RandomForestRegressor(random_state=42))])"
      ]
     },
     "execution_count": 36,
     "metadata": {},
     "output_type": "execute_result"
    }
   ],
   "source": [
    "model.fit(X_train, y_train)"
   ]
  },
  {
   "cell_type": "markdown",
   "metadata": {},
   "source": [
    "### 2.6 评估模型表现"
   ]
  },
  {
   "cell_type": "code",
   "execution_count": 37,
   "metadata": {},
   "outputs": [
    {
     "name": "stdout",
     "output_type": "stream",
     "text": [
      "Mean Squared Error: 84329476.44\n",
      "Root Mean Squared Error: 9183.11\n",
      "R² Score: 0.97\n"
     ]
    }
   ],
   "source": [
    "# 预测\n",
    "y_pred = model.predict(X_test)\n",
    "\n",
    "# 评估指标\n",
    "mse = mean_squared_error(y_test, y_pred)\n",
    "rmse = np.sqrt(mse)\n",
    "r2 = r2_score(y_test, y_pred)\n",
    "\n",
    "print(f\"Mean Squared Error: {mse:.2f}\")\n",
    "print(f\"Root Mean Squared Error: {rmse:.2f}\")\n",
    "print(f\"R² Score: {r2:.2f}\")"
   ]
  },
  {
   "cell_type": "markdown",
   "metadata": {},
   "source": [
    "### 2.7 用模型预测新学生数据的 Salary"
   ]
  },
  {
   "cell_type": "code",
   "execution_count": 38,
   "metadata": {},
   "outputs": [
    {
     "name": "stdout",
     "output_type": "stream",
     "text": [
      "Predicted Salary: $72,290.00\n"
     ]
    }
   ],
   "source": [
    "new_student = pd.DataFrame({\n",
    "    'Age': [24],\n",
    "    'Education Level': [\"Master's\"],\n",
    "    'Job Title': [\"Data Scientist\"],\n",
    "    'Years of Experience': [1]\n",
    "})\n",
    "\n",
    "predicted_salary = model.predict(new_student)\n",
    "print(f\"Predicted Salary: ${predicted_salary[0]:,.2f}\")"
   ]
  }
 ],
 "metadata": {
  "colab": {
   "authorship_tag": "ABX9TyNVjrGPDmN5m7c2EWHiSWAd",
   "provenance": []
  },
  "kernelspec": {
   "display_name": "Python 3 (ipykernel)",
   "language": "python",
   "name": "python3"
  },
  "language_info": {
   "codemirror_mode": {
    "name": "ipython",
    "version": 3
   },
   "file_extension": ".py",
   "mimetype": "text/x-python",
   "name": "python",
   "nbconvert_exporter": "python",
   "pygments_lexer": "ipython3",
   "version": "3.7.9"
  }
 },
 "nbformat": 4,
 "nbformat_minor": 1
}
